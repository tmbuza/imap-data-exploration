{
 "cells": [
  {
   "cell_type": "code",
   "execution_count": null,
   "id": "675130ab-c22a-4430-8d17-b21e97b83795",
   "metadata": {},
   "outputs": [],
   "source": []
  },
  {
   "cell_type": "code",
   "execution_count": null,
   "id": "e0c309f7-c7f3-4008-9b76-3537b8d12faa",
   "metadata": {},
   "outputs": [],
   "source": []
  },
  {
   "cell_type": "code",
   "execution_count": null,
   "id": "d875c406-065f-402c-a1a9-25e286cc200a",
   "metadata": {},
   "outputs": [],
   "source": []
  },
  {
   "cell_type": "code",
   "execution_count": null,
   "id": "2f23131b-7bc1-4ee9-bca1-a1fd1dbe91fb",
   "metadata": {},
   "outputs": [],
   "source": []
  },
  {
   "cell_type": "code",
   "execution_count": null,
   "id": "f019307d-b264-4229-8dfd-f4b7cd397406",
   "metadata": {},
   "outputs": [],
   "source": []
  },
  {
   "cell_type": "code",
   "execution_count": 3,
   "id": "f532f3b5-6181-45eb-9c00-d13ece8a25a0",
   "metadata": {
    "tags": []
   },
   "outputs": [
    {
     "name": "stdout",
     "output_type": "stream",
     "text": [
      "Last Saved: 20240415 at 01.34.22 PM\n",
      "\n",
      "\n",
      "[NbConvertApp] Converting notebook /Users/tmbmacbookair/Dropbox/2024/TMB2024/COMPLETED/imap-data-exploration/02_python_data_vizualization.ipynb to markdown\n",
      "[NbConvertApp] Writing 711 bytes to /Users/tmbmacbookair/Dropbox/2024/TMB2024/COMPLETED/imap-data-exploration/notebooks/02_python_data_vizualization.md\n"
     ]
    }
   ],
   "source": [
    "from datetime import datetime\n",
    "\n",
    "date = datetime.now().strftime(\"%Y%m%d at %I.%M.%S %p\")\n",
    "print(f\"Last Saved: {date}\\n\\n\")\n",
    "\n",
    "!jupyter nbconvert --to markdown $PWD/02_python_data_vizualization.ipynb --output-dir $PWD/notebooks\n",
    "!cp $PWD/notebooks/02_python_data_vizualization.md $PWD/02_python_data_visualization.Rmd\n"
   ]
  },
  {
   "cell_type": "code",
   "execution_count": null,
   "id": "3daba892-b07e-4bb5-a94d-4ed88804b02f",
   "metadata": {},
   "outputs": [],
   "source": []
  }
 ],
 "metadata": {
  "kernelspec": {
   "display_name": "Python 3 (ipykernel)",
   "language": "python",
   "name": "python3"
  },
  "language_info": {
   "codemirror_mode": {
    "name": "ipython",
    "version": 3
   },
   "file_extension": ".py",
   "mimetype": "text/x-python",
   "name": "python",
   "nbconvert_exporter": "python",
   "pygments_lexer": "ipython3",
   "version": "3.11.5"
  }
 },
 "nbformat": 4,
 "nbformat_minor": 5
}
